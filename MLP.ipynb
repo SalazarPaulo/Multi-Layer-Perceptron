{
 "cells": [
  {
   "cell_type": "markdown",
   "id": "5c99073f",
   "metadata": {},
   "source": [
    "# Multilayer Perceptron"
   ]
  },
  {
   "cell_type": "markdown",
   "id": "464324f8",
   "metadata": {},
   "source": [
    "## Importar Librerias & Modulos"
   ]
  },
  {
   "cell_type": "code",
   "execution_count": 1,
   "id": "16f64f6e",
   "metadata": {},
   "outputs": [
    {
     "ename": "KeyboardInterrupt",
     "evalue": "",
     "output_type": "error",
     "traceback": [
      "\u001b[1;31m---------------------------------------------------------------------------\u001b[0m",
      "\u001b[1;31mKeyboardInterrupt\u001b[0m                         Traceback (most recent call last)",
      "\u001b[1;32mc:\\Users\\paulo\\Desktop\\Topicos\\Parcial No.1\\Parcial No.1_Final.ipynb Cell 3\u001b[0m line \u001b[0;36m3\n\u001b[0;32m      <a href='vscode-notebook-cell:/c%3A/Users/paulo/Desktop/Topicos/Parcial%20No.1/Parcial%20No.1_Final.ipynb#W2sZmlsZQ%3D%3D?line=0'>1</a>\u001b[0m \u001b[39mimport\u001b[39;00m \u001b[39mnumpy\u001b[39;00m \u001b[39mas\u001b[39;00m \u001b[39mnp\u001b[39;00m\n\u001b[0;32m      <a href='vscode-notebook-cell:/c%3A/Users/paulo/Desktop/Topicos/Parcial%20No.1/Parcial%20No.1_Final.ipynb#W2sZmlsZQ%3D%3D?line=1'>2</a>\u001b[0m \u001b[39mimport\u001b[39;00m \u001b[39mmath\u001b[39;00m\n\u001b[1;32m----> <a href='vscode-notebook-cell:/c%3A/Users/paulo/Desktop/Topicos/Parcial%20No.1/Parcial%20No.1_Final.ipynb#W2sZmlsZQ%3D%3D?line=2'>3</a>\u001b[0m \u001b[39mimport\u001b[39;00m \u001b[39mmatplotlib\u001b[39;00m\u001b[39m.\u001b[39;00m\u001b[39mpyplot\u001b[39;00m \u001b[39mas\u001b[39;00m \u001b[39mplt\u001b[39;00m\n\u001b[0;32m      <a href='vscode-notebook-cell:/c%3A/Users/paulo/Desktop/Topicos/Parcial%20No.1/Parcial%20No.1_Final.ipynb#W2sZmlsZQ%3D%3D?line=3'>4</a>\u001b[0m \u001b[39mfrom\u001b[39;00m \u001b[39msklearn\u001b[39;00m \u001b[39mimport\u001b[39;00m datasets\n\u001b[0;32m      <a href='vscode-notebook-cell:/c%3A/Users/paulo/Desktop/Topicos/Parcial%20No.1/Parcial%20No.1_Final.ipynb#W2sZmlsZQ%3D%3D?line=4'>5</a>\u001b[0m \u001b[39mfrom\u001b[39;00m \u001b[39msklearn\u001b[39;00m\u001b[39m.\u001b[39;00m\u001b[39mmetrics\u001b[39;00m \u001b[39mimport\u001b[39;00m recall_score, f1_score, accuracy_score, classification_report\n",
      "File \u001b[1;32mc:\\Users\\paulo\\AppData\\Local\\Programs\\Python\\Python311\\Lib\\site-packages\\matplotlib\\__init__.py:148\u001b[0m\n\u001b[0;32m    144\u001b[0m \u001b[39mfrom\u001b[39;00m \u001b[39mpackaging\u001b[39;00m\u001b[39m.\u001b[39;00m\u001b[39mversion\u001b[39;00m \u001b[39mimport\u001b[39;00m parse \u001b[39mas\u001b[39;00m parse_version\n\u001b[0;32m    146\u001b[0m \u001b[39m# cbook must import matplotlib only within function\u001b[39;00m\n\u001b[0;32m    147\u001b[0m \u001b[39m# definitions, so it is safe to import from it here.\u001b[39;00m\n\u001b[1;32m--> 148\u001b[0m \u001b[39mfrom\u001b[39;00m \u001b[39m.\u001b[39;00m \u001b[39mimport\u001b[39;00m _api, _version, cbook, _docstring, rcsetup\n\u001b[0;32m    149\u001b[0m \u001b[39mfrom\u001b[39;00m \u001b[39mmatplotlib\u001b[39;00m\u001b[39m.\u001b[39;00m\u001b[39mcbook\u001b[39;00m \u001b[39mimport\u001b[39;00m sanitize_sequence\n\u001b[0;32m    150\u001b[0m \u001b[39mfrom\u001b[39;00m \u001b[39mmatplotlib\u001b[39;00m\u001b[39m.\u001b[39;00m\u001b[39m_api\u001b[39;00m \u001b[39mimport\u001b[39;00m MatplotlibDeprecationWarning\n",
      "File \u001b[1;32mc:\\Users\\paulo\\AppData\\Local\\Programs\\Python\\Python311\\Lib\\site-packages\\matplotlib\\rcsetup.py:28\u001b[0m\n\u001b[0;32m     26\u001b[0m \u001b[39mfrom\u001b[39;00m \u001b[39mmatplotlib\u001b[39;00m\u001b[39m.\u001b[39;00m\u001b[39mcbook\u001b[39;00m \u001b[39mimport\u001b[39;00m ls_mapper\n\u001b[0;32m     27\u001b[0m \u001b[39mfrom\u001b[39;00m \u001b[39mmatplotlib\u001b[39;00m\u001b[39m.\u001b[39;00m\u001b[39mcolors\u001b[39;00m \u001b[39mimport\u001b[39;00m Colormap, is_color_like\n\u001b[1;32m---> 28\u001b[0m \u001b[39mfrom\u001b[39;00m \u001b[39mmatplotlib\u001b[39;00m\u001b[39m.\u001b[39;00m\u001b[39m_fontconfig_pattern\u001b[39;00m \u001b[39mimport\u001b[39;00m parse_fontconfig_pattern\n\u001b[0;32m     29\u001b[0m \u001b[39mfrom\u001b[39;00m \u001b[39mmatplotlib\u001b[39;00m\u001b[39m.\u001b[39;00m\u001b[39m_enums\u001b[39;00m \u001b[39mimport\u001b[39;00m JoinStyle, CapStyle\n\u001b[0;32m     31\u001b[0m \u001b[39m# Don't let the original cycler collide with our validating cycler\u001b[39;00m\n",
      "File \u001b[1;32mc:\\Users\\paulo\\AppData\\Local\\Programs\\Python\\Python311\\Lib\\site-packages\\matplotlib\\_fontconfig_pattern.py:15\u001b[0m\n\u001b[0;32m     12\u001b[0m \u001b[39mfrom\u001b[39;00m \u001b[39mfunctools\u001b[39;00m \u001b[39mimport\u001b[39;00m lru_cache, partial\n\u001b[0;32m     13\u001b[0m \u001b[39mimport\u001b[39;00m \u001b[39mre\u001b[39;00m\n\u001b[1;32m---> 15\u001b[0m \u001b[39mfrom\u001b[39;00m \u001b[39mpyparsing\u001b[39;00m \u001b[39mimport\u001b[39;00m (\n\u001b[0;32m     16\u001b[0m     Group, Optional, ParseException, Regex, StringEnd, Suppress, ZeroOrMore)\n\u001b[0;32m     18\u001b[0m \u001b[39mfrom\u001b[39;00m \u001b[39mmatplotlib\u001b[39;00m \u001b[39mimport\u001b[39;00m _api\n\u001b[0;32m     21\u001b[0m _family_punc \u001b[39m=\u001b[39m \u001b[39mr\u001b[39m\u001b[39m'\u001b[39m\u001b[39m\\\\\u001b[39;00m\u001b[39m\\\u001b[39m\u001b[39m-:,\u001b[39m\u001b[39m'\u001b[39m\n",
      "File \u001b[1;32mc:\\Users\\paulo\\AppData\\Local\\Programs\\Python\\Python311\\Lib\\site-packages\\pyparsing\\__init__.py:144\u001b[0m\n\u001b[0;32m    142\u001b[0m \u001b[39mfrom\u001b[39;00m \u001b[39m.\u001b[39;00m\u001b[39mcore\u001b[39;00m \u001b[39mimport\u001b[39;00m \u001b[39m*\u001b[39m\n\u001b[0;32m    143\u001b[0m \u001b[39mfrom\u001b[39;00m \u001b[39m.\u001b[39;00m\u001b[39mcore\u001b[39;00m \u001b[39mimport\u001b[39;00m _builtin_exprs \u001b[39mas\u001b[39;00m core_builtin_exprs\n\u001b[1;32m--> 144\u001b[0m \u001b[39mfrom\u001b[39;00m \u001b[39m.\u001b[39;00m\u001b[39mhelpers\u001b[39;00m \u001b[39mimport\u001b[39;00m \u001b[39m*\u001b[39m\n\u001b[0;32m    145\u001b[0m \u001b[39mfrom\u001b[39;00m \u001b[39m.\u001b[39;00m\u001b[39mhelpers\u001b[39;00m \u001b[39mimport\u001b[39;00m _builtin_exprs \u001b[39mas\u001b[39;00m helper_builtin_exprs\n\u001b[0;32m    147\u001b[0m \u001b[39mfrom\u001b[39;00m \u001b[39m.\u001b[39;00m\u001b[39municode\u001b[39;00m \u001b[39mimport\u001b[39;00m unicode_set, UnicodeRangeList, pyparsing_unicode \u001b[39mas\u001b[39;00m unicode\n",
      "File \u001b[1;32m<frozen importlib._bootstrap>:1176\u001b[0m, in \u001b[0;36m_find_and_load\u001b[1;34m(name, import_)\u001b[0m\n",
      "File \u001b[1;32m<frozen importlib._bootstrap>:1138\u001b[0m, in \u001b[0;36m_find_and_load_unlocked\u001b[1;34m(name, import_)\u001b[0m\n",
      "File \u001b[1;32m<frozen importlib._bootstrap>:1078\u001b[0m, in \u001b[0;36m_find_spec\u001b[1;34m(name, path, target)\u001b[0m\n",
      "File \u001b[1;32m<frozen importlib._bootstrap_external>:1504\u001b[0m, in \u001b[0;36mfind_spec\u001b[1;34m(cls, fullname, path, target)\u001b[0m\n",
      "File \u001b[1;32m<frozen importlib._bootstrap_external>:1476\u001b[0m, in \u001b[0;36m_get_spec\u001b[1;34m(cls, fullname, path, target)\u001b[0m\n",
      "File \u001b[1;32m<frozen importlib._bootstrap_external>:1612\u001b[0m, in \u001b[0;36mfind_spec\u001b[1;34m(self, fullname, target)\u001b[0m\n",
      "File \u001b[1;32m<frozen importlib._bootstrap_external>:147\u001b[0m, in \u001b[0;36m_path_stat\u001b[1;34m(path)\u001b[0m\n",
      "\u001b[1;31mKeyboardInterrupt\u001b[0m: "
     ]
    }
   ],
   "source": [
    "import numpy as np\n",
    "import math\n",
    "import matplotlib.pyplot as plt\n",
    "from sklearn import datasets\n",
    "from sklearn.metrics import recall_score, f1_score, accuracy_score, classification_report\n",
    "from sklearn.metrics import  confusion_matrix\n",
    "from sklearn.model_selection import train_test_split"
   ]
  },
  {
   "cell_type": "markdown",
   "id": "cacb4b75",
   "metadata": {},
   "source": [
    "## Definir Funciones"
   ]
  },
  {
   "cell_type": "code",
   "execution_count": null,
   "id": "30854acd",
   "metadata": {},
   "outputs": [
    {
     "ename": "",
     "evalue": "",
     "output_type": "error",
     "traceback": [
      "\u001b[1;31mFailed to start the Kernel. \n",
      "\u001b[1;31mUnable to start Kernel 'Python 3.11.4' due to a timeout waiting for the ports to get used. \n",
      "\u001b[1;31mView Jupyter <a href='command:jupyter.viewOutput'>log</a> for further details."
     ]
    }
   ],
   "source": [
    "def normalize(X, axis=-1, order=2):\n",
    "    \"\"\" Normalize the dataset X \"\"\"\n",
    "    l2 = np.atleast_1d(np.linalg.norm(X, order, axis))\n",
    "    l2[l2 == 0] = 1\n",
    "    return X / np.expand_dims(l2, axis)"
   ]
  },
  {
   "cell_type": "code",
   "execution_count": null,
   "id": "f044b50b",
   "metadata": {},
   "outputs": [
    {
     "ename": "",
     "evalue": "",
     "output_type": "error",
     "traceback": [
      "\u001b[1;31mFailed to start the Kernel. \n",
      "\u001b[1;31mUnable to start Kernel 'Python 3.11.4' due to a timeout waiting for the ports to get used. \n",
      "\u001b[1;31mView Jupyter <a href='command:jupyter.viewOutput'>log</a> for further details."
     ]
    }
   ],
   "source": [
    "# One-Hot Encode\n",
    "def to_categorical(x, n_col=None):\n",
    "    \"\"\" One-hot encoding of nominal values \"\"\"\n",
    "    if not n_col:\n",
    "        n_col = np.amax(x) + 1\n",
    "    one_hot = np.zeros((x.shape[0], n_col))\n",
    "    one_hot[np.arange(x.shape[0]), x] = 1\n",
    "    return one_hot"
   ]
  },
  {
   "cell_type": "markdown",
   "id": "717e683a",
   "metadata": {},
   "source": [
    "## Definir Clases"
   ]
  },
  {
   "cell_type": "code",
   "execution_count": null,
   "id": "e4c75595",
   "metadata": {},
   "outputs": [
    {
     "ename": "",
     "evalue": "",
     "output_type": "error",
     "traceback": [
      "\u001b[1;31mFailed to start the Kernel. \n",
      "\u001b[1;31mUnable to start Kernel 'Python 3.11.4' due to a timeout waiting for the ports to get used. \n",
      "\u001b[1;31mView Jupyter <a href='command:jupyter.viewOutput'>log</a> for further details."
     ]
    }
   ],
   "source": [
    "class CrossEntropy():\n",
    "    def __init__(self): pass\n",
    "\n",
    "    def loss(self, y, p):\n",
    "        # Avoid division by zero\n",
    "        p = np.clip(p, 1e-15, 1 - 1e-15)\n",
    "        return - y * np.log(p) - (1 - y) * np.log(1 - p)\n",
    "\n",
    "    def acc(self, y, p):\n",
    "        return accuracy_score(np.argmax(y, axis=1), np.argmax(p, axis=1))\n",
    "\n",
    "    def gradient(self, y, p):\n",
    "        # Avoid division by zero\n",
    "        p = np.clip(p, 1e-15, 1 - 1e-15)\n",
    "        return - (y / p) + (1 - y) / (1 - p)"
   ]
  },
  {
   "cell_type": "code",
   "execution_count": 2,
   "id": "4b843fe8",
   "metadata": {},
   "outputs": [],
   "source": [
    "class Sigmoid():\n",
    "    def __call__(self, x):\n",
    "        return 1 / (1 + np.exp(-x))\n",
    "\n",
    "    def gradient(self, x):\n",
    "        return self.__call__(x) * (1 - self.__call__(x))"
   ]
  },
  {
   "cell_type": "code",
   "execution_count": 3,
   "id": "c19bf23b",
   "metadata": {},
   "outputs": [],
   "source": [
    "class Softmax():\n",
    "    def __call__(self, x):\n",
    "        e_x = np.exp(x - np.max(x, axis=-1, keepdims=True))\n",
    "        return e_x / np.sum(e_x, axis=-1, keepdims=True)\n",
    "\n",
    "    def gradient(self, x):\n",
    "        p = self.__call__(x)\n",
    "        return p * (1 - p)"
   ]
  },
  {
   "cell_type": "code",
   "execution_count": 6,
   "id": "22dd19e6",
   "metadata": {},
   "outputs": [],
   "source": [
    "class MultilayerPerceptron():\n",
    "\n",
    "    def __init__(self, n_hidden, n_iterations=3000, learning_rate=0.01):\n",
    "        self.n_hidden = n_hidden\n",
    "        self.n_iterations = n_iterations\n",
    "        self.learning_rate = learning_rate\n",
    "        self.hidden_activation = Sigmoid()\n",
    "        self.output_activation = Softmax()\n",
    "        self.loss = CrossEntropy()\n",
    "\n",
    "    def _initialize_weights(self, X, y):\n",
    "        \n",
    "        n_samples, n_features = X.shape\n",
    "        _, n_outputs = y.shape\n",
    "        \n",
    "        # Hidden layer\n",
    "        limit   = 1 / math.sqrt(n_features)\n",
    "        self.W  = np.random.uniform(-limit, limit, (n_features, self.n_hidden))\n",
    "        self.w0 = np.zeros((1, self.n_hidden))\n",
    "        \n",
    "        # Output layer\n",
    "        limit   = 1 / math.sqrt(self.n_hidden)\n",
    "        self.V  = np.random.uniform(-limit, limit, (self.n_hidden, n_outputs))\n",
    "        self.v0 = np.zeros((1, n_outputs))\n",
    "\n",
    "    def fit(self, X, y):\n",
    "\n",
    "        self._initialize_weights(X, y)\n",
    "\n",
    "        for i in range(self.n_iterations):\n",
    "\n",
    "            # ..............\n",
    "            #  Forward Pass\n",
    "            # ..............\n",
    "\n",
    "            # HIDDEN LAYER\n",
    "            hidden_input = X.dot(self.W) + self.w0\n",
    "            hidden_output = self.hidden_activation(hidden_input)\n",
    "            # OUTPUT LAYER\n",
    "            output_layer_input = hidden_output.dot(self.V) + self.v0\n",
    "            y_pred = self.output_activation(output_layer_input)\n",
    "            \n",
    "            ############################################################\n",
    "\n",
    "            # ...............\n",
    "            #  Backward Pass\n",
    "            # ...............\n",
    "\n",
    "            # OUTPUT LAYER\n",
    "            # Grad. with respect to input of output layer\n",
    "            grad_wrt_out_l_input = self.loss.gradient(y, y_pred) * self.output_activation.gradient(output_layer_input)\n",
    "            grad_v = hidden_output.T.dot(grad_wrt_out_l_input)\n",
    "            grad_v0 = np.sum(grad_wrt_out_l_input, axis=0, keepdims=True)\n",
    "            \n",
    "            # HIDDEN LAYER\n",
    "            # Grad. with respect to input of hidden layer\n",
    "            grad_wrt_hidden_l_input = grad_wrt_out_l_input.dot(self.V.T) * self.hidden_activation.gradient(hidden_input)\n",
    "            grad_w = X.T.dot(grad_wrt_hidden_l_input)\n",
    "            grad_w0 = np.sum(grad_wrt_hidden_l_input, axis=0, keepdims=True)\n",
    "            \n",
    "            ############################################################\n",
    "\n",
    "            # Update weights (by gradient descent)\n",
    "            # Move against the gradient to minimize loss\n",
    "            self.V  -= self.learning_rate * grad_v\n",
    "            self.v0 -= self.learning_rate * grad_v0\n",
    "            self.W  -= self.learning_rate * grad_w\n",
    "            self.w0 -= self.learning_rate * grad_w0\n",
    "\n",
    "    \n",
    "    def predict(self, X):\n",
    "        hidden_input = X.dot(self.W) + self.w0\n",
    "        hidden_output = self.hidden_activation(hidden_input)\n",
    "        output_layer_input = hidden_output.dot(self.V) + self.v0\n",
    "        y_pred = self.output_activation(output_layer_input)\n",
    "        return y_pred\n",
    "\n"
   ]
  },
  {
   "cell_type": "markdown",
   "id": "b7c8550b",
   "metadata": {},
   "source": [
    "## Problema"
   ]
  },
  {
   "cell_type": "markdown",
   "id": "f4053845",
   "metadata": {},
   "source": [
    "The data is obtained from the datasets.load_digits() function. This function loads the MNIST handwritten digit dataset, which contains 60,000 training images and 10,000 test images of handwritten digits. The images are 8x8 pixels in size and each pixel has a value between 0 and 255. \n",
    "\n",
    "Link Dataset: http://yann.lecun.com/exdb/mnist/"
   ]
  },
  {
   "cell_type": "code",
   "execution_count": null,
   "id": "6f327dab",
   "metadata": {},
   "outputs": [
    {
     "ename": "",
     "evalue": "",
     "output_type": "error",
     "traceback": [
      "\u001b[1;31mFailed to start the Kernel. \n",
      "\u001b[1;31mUnable to start Kernel 'Python 3.11.4' due to a timeout waiting for the ports to get used. \n",
      "\u001b[1;31mView Jupyter <a href='command:jupyter.viewOutput'>log</a> for further details."
     ]
    }
   ],
   "source": [
    "data = datasets.load_digits()\n",
    "#X = data.data\n",
    "#y = data.target\n",
    "X = normalize(data.data)\n",
    "y = data.target"
   ]
  },
  {
   "cell_type": "markdown",
   "id": "74f8f843",
   "metadata": {},
   "source": [
    "Nota:\n",
    "\n",
    "Otra forma de normalizar la data hubiera sido dividir todo entre 15 puesto ese es el máximo.\n",
    "Pero antes de ello se aplicaun clasificador sobre la data para \"aplanar\" las imagenes a fin de poner la informacion en forma de vector: normalizado = data.reshape(len(data.images), -1)\n",
    "\n",
    "Al aplanar lo transformara el rango de 0-15 en un rango de 0-1"
   ]
  },
  {
   "cell_type": "code",
   "execution_count": 34,
   "id": "0ba8b69d",
   "metadata": {},
   "outputs": [
    {
     "name": "stdout",
     "output_type": "stream",
     "text": [
      "['pixel_0_0', 'pixel_0_1', 'pixel_0_2', 'pixel_0_3', 'pixel_0_4', 'pixel_0_5', 'pixel_0_6', 'pixel_0_7', 'pixel_1_0', 'pixel_1_1', 'pixel_1_2', 'pixel_1_3', 'pixel_1_4', 'pixel_1_5', 'pixel_1_6', 'pixel_1_7', 'pixel_2_0', 'pixel_2_1', 'pixel_2_2', 'pixel_2_3', 'pixel_2_4', 'pixel_2_5', 'pixel_2_6', 'pixel_2_7', 'pixel_3_0', 'pixel_3_1', 'pixel_3_2', 'pixel_3_3', 'pixel_3_4', 'pixel_3_5', 'pixel_3_6', 'pixel_3_7', 'pixel_4_0', 'pixel_4_1', 'pixel_4_2', 'pixel_4_3', 'pixel_4_4', 'pixel_4_5', 'pixel_4_6', 'pixel_4_7', 'pixel_5_0', 'pixel_5_1', 'pixel_5_2', 'pixel_5_3', 'pixel_5_4', 'pixel_5_5', 'pixel_5_6', 'pixel_5_7', 'pixel_6_0', 'pixel_6_1', 'pixel_6_2', 'pixel_6_3', 'pixel_6_4', 'pixel_6_5', 'pixel_6_6', 'pixel_6_7', 'pixel_7_0', 'pixel_7_1', 'pixel_7_2', 'pixel_7_3', 'pixel_7_4', 'pixel_7_5', 'pixel_7_6', 'pixel_7_7']\n"
     ]
    }
   ],
   "source": [
    "# Nombres de las columnas\n",
    "print(data.feature_names)"
   ]
  },
  {
   "cell_type": "code",
   "execution_count": 35,
   "id": "a5bce5a4",
   "metadata": {},
   "outputs": [
    {
     "name": "stdout",
     "output_type": "stream",
     "text": [
      "[[[ 0.  0.  5. ...  1.  0.  0.]\n",
      "  [ 0.  0. 13. ... 15.  5.  0.]\n",
      "  [ 0.  3. 15. ... 11.  8.  0.]\n",
      "  ...\n",
      "  [ 0.  4. 11. ... 12.  7.  0.]\n",
      "  [ 0.  2. 14. ... 12.  0.  0.]\n",
      "  [ 0.  0.  6. ...  0.  0.  0.]]\n",
      "\n",
      " [[ 0.  0.  0. ...  5.  0.  0.]\n",
      "  [ 0.  0.  0. ...  9.  0.  0.]\n",
      "  [ 0.  0.  3. ...  6.  0.  0.]\n",
      "  ...\n",
      "  [ 0.  0.  1. ...  6.  0.  0.]\n",
      "  [ 0.  0.  1. ...  6.  0.  0.]\n",
      "  [ 0.  0.  0. ... 10.  0.  0.]]\n",
      "\n",
      " [[ 0.  0.  0. ... 12.  0.  0.]\n",
      "  [ 0.  0.  3. ... 14.  0.  0.]\n",
      "  [ 0.  0.  8. ... 16.  0.  0.]\n",
      "  ...\n",
      "  [ 0.  9. 16. ...  0.  0.  0.]\n",
      "  [ 0.  3. 13. ... 11.  5.  0.]\n",
      "  [ 0.  0.  0. ... 16.  9.  0.]]\n",
      "\n",
      " ...\n",
      "\n",
      " [[ 0.  0.  1. ...  1.  0.  0.]\n",
      "  [ 0.  0. 13. ...  2.  1.  0.]\n",
      "  [ 0.  0. 16. ... 16.  5.  0.]\n",
      "  ...\n",
      "  [ 0.  0. 16. ... 15.  0.  0.]\n",
      "  [ 0.  0. 15. ... 16.  0.  0.]\n",
      "  [ 0.  0.  2. ...  6.  0.  0.]]\n",
      "\n",
      " [[ 0.  0.  2. ...  0.  0.  0.]\n",
      "  [ 0.  0. 14. ... 15.  1.  0.]\n",
      "  [ 0.  4. 16. ... 16.  7.  0.]\n",
      "  ...\n",
      "  [ 0.  0.  0. ... 16.  2.  0.]\n",
      "  [ 0.  0.  4. ... 16.  2.  0.]\n",
      "  [ 0.  0.  5. ... 12.  0.  0.]]\n",
      "\n",
      " [[ 0.  0. 10. ...  1.  0.  0.]\n",
      "  [ 0.  2. 16. ...  1.  0.  0.]\n",
      "  [ 0.  0. 15. ... 15.  0.  0.]\n",
      "  ...\n",
      "  [ 0.  4. 16. ... 16.  6.  0.]\n",
      "  [ 0.  8. 16. ... 16.  8.  0.]\n",
      "  [ 0.  1.  8. ... 12.  1.  0.]]]\n"
     ]
    }
   ],
   "source": [
    "# La base de datos se compone imagenes de digitos  y su digito correspondiente\n",
    "# las imagenes se almacenan en el atributo 'images' del set de datos7\n",
    "print(data.images)"
   ]
  },
  {
   "cell_type": "code",
   "execution_count": 36,
   "id": "532f0907",
   "metadata": {},
   "outputs": [
    {
     "name": "stdout",
     "output_type": "stream",
     "text": [
      "[0 1 2 ... 8 9 8]\n"
     ]
    }
   ],
   "source": [
    "# Para cada imagen, sabemos qué digito representa a partir del atributo 'target'\n",
    "print(data.target)"
   ]
  },
  {
   "cell_type": "code",
   "execution_count": 37,
   "id": "73879ec7",
   "metadata": {},
   "outputs": [
    {
     "name": "stdout",
     "output_type": "stream",
     "text": [
      "Elementos en data.images =  1797\n",
      "Elementos en data.target =  1797\n"
     ]
    }
   ],
   "source": [
    "# ¿Cuántos elementos contienen estos campos?\n",
    "print('Elementos en data.images = ', len(data.images))\n",
    "print('Elementos en data.target = ', len(data.target))"
   ]
  },
  {
   "cell_type": "code",
   "execution_count": 38,
   "id": "4facc7f2",
   "metadata": {},
   "outputs": [
    {
     "name": "stdout",
     "output_type": "stream",
     "text": [
      "[[ 0.  0.  5. 13.  9.  1.  0.  0.]\n",
      " [ 0.  0. 13. 15. 10. 15.  5.  0.]\n",
      " [ 0.  3. 15.  2.  0. 11.  8.  0.]\n",
      " [ 0.  4. 12.  0.  0.  8.  8.  0.]\n",
      " [ 0.  5.  8.  0.  0.  9.  8.  0.]\n",
      " [ 0.  4. 11.  0.  1. 12.  7.  0.]\n",
      " [ 0.  2. 14.  5. 10. 12.  0.  0.]\n",
      " [ 0.  0.  6. 13. 10.  0.  0.  0.]]\n",
      "0\n"
     ]
    }
   ],
   "source": [
    "# ¿Cuál es el primer dígito del dataset?\n",
    "print(data.images[0])\n",
    "print(data.target[0])"
   ]
  },
  {
   "cell_type": "code",
   "execution_count": 39,
   "id": "5774565e",
   "metadata": {},
   "outputs": [
    {
     "data": {
      "image/png": "[encoded data removed]",
      "text/plain": [
       "<Figure size 200x200 with 1 Axes>"
      ]
     },
     "metadata": {},
     "output_type": "display_data"
    }
   ],
   "source": [
    "# Podemos visualizar la matriz como una imagen\n",
    "plt.figure(figsize=(2,2))\n",
    "plt.imshow(data.images[0], cmap=plt.cm.gray_r)\n",
    "plt.show()"
   ]
  },
  {
   "cell_type": "code",
   "execution_count": 40,
   "id": "5113c9e6",
   "metadata": {},
   "outputs": [
    {
     "data": {
      "image/png": "[encoded data removed]",
      "text/plain": [
       "<Figure size 200x200 with 1 Axes>"
      ]
     },
     "metadata": {},
     "output_type": "display_data"
    }
   ],
   "source": [
    "# Segundo dígito del dataset\n",
    "# Podemos visualizar la matriz como una imagen\n",
    "plt.figure(figsize=(2,2))\n",
    "plt.imshow(data.images[1], cmap=plt.cm.gray_r)\n",
    "plt.show()"
   ]
  },
  {
   "cell_type": "code",
   "execution_count": 41,
   "id": "d601ae93",
   "metadata": {},
   "outputs": [
    {
     "name": "stdout",
     "output_type": "stream",
     "text": [
      "1797\n"
     ]
    },
    {
     "data": {
      "image/png": "[encoded data removed]",
      "text/plain": [
       "<Figure size 640x480 with 10 Axes>"
      ]
     },
     "metadata": {},
     "output_type": "display_data"
    }
   ],
   "source": [
    "# ¿Cuántos dígitos hay en el dataset?\n",
    "images = []\n",
    "for i in range (len(data.target)):\n",
    "    for digit in range(10): # Si borramos el for visualizaremos los 10 numeros 9 que hay\n",
    "        if data.target[i] == digit:\n",
    "            images.append(data.images[i])\n",
    "print(len(images))\n",
    "\n",
    "# Visualizar los primeros 10\n",
    "for index in range(0, 10):\n",
    "    plt.subplot(2, 5, index + 1)\n",
    "    plt.axis('off')\n",
    "    plt.imshow(images[index], cmap=plt.cm.gray_r)\n",
    "plt.show()"
   ]
  },
  {
   "cell_type": "code",
   "execution_count": 42,
   "id": "9b05dc58",
   "metadata": {},
   "outputs": [
    {
     "name": "stdout",
     "output_type": "stream",
     "text": [
      "178\n"
     ]
    },
    {
     "data": {
      "image/png": "[encoded data removed]",
      "text/plain": [
       "<Figure size 640x480 with 10 Axes>"
      ]
     },
     "metadata": {},
     "output_type": "display_data"
    }
   ],
   "source": [
    "# ¿Cuántos dígitos cero hay en el dataset?\n",
    "images = []\n",
    "for i in range (len(data.target)):\n",
    "    if data.target[i] == 0:\n",
    "        images.append(data.images[i])\n",
    "print(len(images))\n",
    "\n",
    "# Visualizar los primeros 10\n",
    "for index in range(0, 10):\n",
    "    plt.subplot(2, 5, index + 1)\n",
    "    plt.axis('off')\n",
    "    plt.imshow(images[index], cmap=plt.cm.gray_r)\n",
    "plt.show()"
   ]
  },
  {
   "cell_type": "code",
   "execution_count": 43,
   "id": "9b573e99",
   "metadata": {},
   "outputs": [
    {
     "name": "stdout",
     "output_type": "stream",
     "text": [
      "[178. 182. 177. 183. 181. 182. 181. 179. 174. 180.]\n"
     ]
    }
   ],
   "source": [
    "# ¿Cuántos muestras hay de cada digito en el dataset?\n",
    "samples = np.zeros(10)\n",
    "for i in range (len(data.target)):\n",
    "    for digit in range(10):\n",
    "        if data.target[i] == digit:\n",
    "            samples[digit] += 1\n",
    "print(samples)"
   ]
  },
  {
   "cell_type": "code",
   "execution_count": 44,
   "id": "d1cb6a4f",
   "metadata": {},
   "outputs": [
    {
     "data": {
      "image/png": "[encoded data removed]",
      "text/plain": [
       "<Figure size 200x200 with 1 Axes>"
      ]
     },
     "metadata": {},
     "output_type": "display_data"
    }
   ],
   "source": [
    "# Tomamos nuestro set de datos desde 'data'\n",
    "image = data.images\n",
    "labels = data.target\n",
    "\n",
    "index = 1000\n",
    "\n",
    "plt.figure(figsize=(2,2))\n",
    "plt.imshow(image[index], cmap=plt.cm.gray_r)\n",
    "plt.title('Etiqueta: %i' % labels[index])\n",
    "plt.show()"
   ]
  },
  {
   "cell_type": "markdown",
   "id": "238d2033",
   "metadata": {},
   "source": [
    "## MLP"
   ]
  },
  {
   "cell_type": "code",
   "execution_count": 52,
   "id": "9e41dd27",
   "metadata": {},
   "outputs": [],
   "source": [
    "# Convert the nominal y values to binary\n",
    "#X = normalize(data.data)\n",
    "#y = data.target\n",
    "y = to_categorical(y)"
   ]
  },
  {
   "cell_type": "code",
   "execution_count": 53,
   "id": "f7c3deae",
   "metadata": {},
   "outputs": [],
   "source": [
    "X_train, X_test, y_train, y_test = train_test_split(X, y, test_size=0.2, random_state=123)"
   ]
  },
  {
   "cell_type": "code",
   "execution_count": 54,
   "id": "119cd0d0",
   "metadata": {},
   "outputs": [],
   "source": [
    "# MLP\n",
    "\n",
    "clf = MultilayerPerceptron(n_hidden=16, n_iterations=1000, learning_rate=0.01)\n",
    "\n",
    "clf.fit(X_train, y_train)\n"
   ]
  },
  {
   "cell_type": "code",
   "execution_count": 55,
   "id": "50d43478",
   "metadata": {},
   "outputs": [],
   "source": [
    "y_pred = np.argmax(clf.predict(X_test), axis=1)\n",
    "y_test = np.argmax(y_test, axis=1)"
   ]
  },
  {
   "cell_type": "markdown",
   "id": "db2dd108",
   "metadata": {},
   "source": [
    "Otra forma: \n",
    "\n",
    "mlp = MLPClassifier(activation = 'tanh', hidden_layer_sizes=(16,), max_iter=1000, learning_rate_init=0.01)\n",
    "\n",
    "''' Entrenamos la red con n datos'''\n",
    "\n",
    "n = 898\n",
    "\n",
    "mlp.fit(normalizado[:n], labels[:n])\n",
    "\n",
    "'''Verificamos sus predicciones para los datos restantes'''\n",
    "\n",
    "esperado=labels[n:]\n",
    "prediccion=mlp.predict(normalizado[n:])\n",
    "\n",
    "''' mostramos los resultados'''\n",
    "\n",
    "print(\"Informe de clasificación:\" % metrics.classification_report(esperado, prediccion))\n",
    "\n",
    "print(\"Matriz de Confusión:\" % metrics.confusion_matrix(esperado, prediccion))"
   ]
  },
  {
   "cell_type": "code",
   "execution_count": 14,
   "id": "5831487e",
   "metadata": {},
   "outputs": [
    {
     "name": "stdout",
     "output_type": "stream",
     "text": [
      "Precisión del modelo:: 0.975\n"
     ]
    }
   ],
   "source": [
    "accuracy = accuracy_score(y_test, y_pred)\n",
    "#recall = recall_score(y_test, y_pred, average='macro')\n",
    "#f1_score = f1_score(y_test, y_pred, average='macro')\n",
    "#support = support(y_test, y_pred)\n",
    "print (\"Precisión del modelo::\", accuracy)"
   ]
  },
  {
   "cell_type": "code",
   "execution_count": 53,
   "id": "af54fc2d",
   "metadata": {},
   "outputs": [
    {
     "name": "stdout",
     "output_type": "stream",
     "text": [
      "Informe de clasificación:\n",
      "              precision    recall  f1-score   support\n",
      "\n",
      "           0       1.00      1.00      1.00        39\n",
      "           1       0.89      1.00      0.94        34\n",
      "           2       1.00      1.00      1.00        36\n",
      "           3       1.00      1.00      1.00        33\n",
      "           4       0.98      0.98      0.98        42\n",
      "           5       0.97      0.92      0.94        37\n",
      "           6       1.00      0.95      0.98        43\n",
      "           7       0.97      1.00      0.98        31\n",
      "           8       1.00      0.92      0.96        37\n",
      "           9       0.93      1.00      0.97        28\n",
      "\n",
      "    accuracy                           0.97       360\n",
      "   macro avg       0.97      0.98      0.97       360\n",
      "weighted avg       0.98      0.97      0.98       360\n",
      "\n",
      "Matriz de Confusión:\n",
      "[[39  0  0  0  0  0  0  0  0  0]\n",
      " [ 0 34  0  0  0  0  0  0  0  0]\n",
      " [ 0  0 36  0  0  0  0  0  0  0]\n",
      " [ 0  0  0 33  0  0  0  0  0  0]\n",
      " [ 0  0  0  0 41  0  0  1  0  0]\n",
      " [ 0  0  0  0  1 34  0  0  0  2]\n",
      " [ 0  1  0  0  0  1 41  0  0  0]\n",
      " [ 0  0  0  0  0  0  0 31  0  0]\n",
      " [ 0  3  0  0  0  0  0  0 34  0]\n",
      " [ 0  0  0  0  0  0  0  0  0 28]]\n"
     ]
    }
   ],
   "source": [
    "print(\"Informe de clasificación:\")\n",
    "print(classification_report(y_test, y_pred))\n",
    "\n",
    "print(\"Matriz de Confusión:\" )\n",
    "print(confusion_matrix(y_test, y_pred))"
   ]
  },
  {
   "cell_type": "code",
   "execution_count": 118,
   "id": "a863ac95",
   "metadata": {},
   "outputs": [
    {
     "data": {
      "text/plain": [
       "[[5, 4], [5, 9], [8, 1], [8, 1], [6, 1], [8, 1], [4, 7], [5, 9], [6, 5]]"
      ]
     },
     "execution_count": 118,
     "metadata": {},
     "output_type": "execute_result"
    }
   ],
   "source": [
    "# ¿Cuales fueron los datos erróneos?\n",
    "error = []\n",
    "for i in range(len(y_pred)):\n",
    "    if y_test[i] != y_pred[i]:\n",
    "        error.append([y_test[i], y_pred[i]])\n",
    "        \n",
    "# Imprime los datos erróneos.\n",
    "error\n",
    "#Se esperaba un valor, y la maquina predijo otro valor."
   ]
  },
  {
   "cell_type": "markdown",
   "id": "e35cbd8b",
   "metadata": {},
   "source": [
    "Que más mostrar:\n",
    "\n",
    "    Bonus:\n",
    "    Deberia haber alguna forma de dibujar, de dibujar el perceptron con sus capas internar.\n",
    "    el sckit-learn.\n",
    "    Graficar la clasificación, en barras.\n",
    "    \n",
    "    "
   ]
  },
  {
   "cell_type": "code",
   "execution_count": 52,
   "id": "759745ba",
   "metadata": {},
   "outputs": [
    {
     "data": {
      "image/png": "[encoded data removed]",
      "text/plain": [
       "<Figure size 640x480 with 1 Axes>"
      ]
     },
     "metadata": {},
     "output_type": "display_data"
    }
   ],
   "source": [
    "class_names = [\"0\", \"1\", \"2\", \"3\", \"4\", \"5\", \"6\", \"7\", \"8\", \"9\"]\n",
    "class_counts = np.bincount(y_pred)\n",
    "plt.bar(class_names, class_counts)\n",
    "plt.xlabel(\"Clases\")\n",
    "plt.ylabel(\"Cantidad\")\n",
    "plt.title(\"Clase Total Predecidas\")\n",
    "plt.show()"
   ]
  },
  {
   "cell_type": "code",
   "execution_count": 86,
   "id": "a5454e59",
   "metadata": {},
   "outputs": [],
   "source": [
    "def plot_confusion_matrix(cm, cmap=\"Blues\", figsize=(10, 10)):\n",
    "    # Set the figure size\n",
    "    fig = plt.figure(figsize=figsize)\n",
    "\n",
    "    # Add an axis to the figure\n",
    "    ax = fig.add_subplot(111)\n",
    "\n",
    "    # Create the image of the axis\n",
    "    image = ax.matshow(cm.astype(\"float\").T / cm.sum(axis=1), cmap=cmap)\n",
    "\n",
    "    plt.xlabel(\"Predicted\")\n",
    "    plt.ylabel(\"Actual\")\n",
    "\n",
    "    for i in range(cm.shape[0]):\n",
    "        for j in range(cm.shape[1]):\n",
    "            plt.annotate(cm[i, j], (i, j), color=\"black\", size=10)\n",
    "\n",
    "    plt.show()\n"
   ]
  },
  {
   "cell_type": "code",
   "execution_count": 87,
   "id": "865bdccc",
   "metadata": {},
   "outputs": [
    {
     "data": {
      "image/png": "[encoded data removed]",
      "text/plain": [
       "<Figure size 1000x1000 with 1 Axes>"
      ]
     },
     "metadata": {},
     "output_type": "display_data"
    }
   ],
   "source": [
    "# Plot the confusion matrix\n",
    "cm = confusion_matrix(y_test, y_pred)\n",
    "plot_confusion_matrix(cm)"
   ]
  },
  {
   "cell_type": "code",
   "execution_count": 90,
   "id": "2bdb3ba0",
   "metadata": {},
   "outputs": [
    {
     "name": "stdout",
     "output_type": "stream",
     "text": [
      "[[39  0  0  0  0  0  0  0  0  0]\n",
      " [ 0 34  0  0  0  0  1  0  3  0]\n",
      " [ 0  0 36  0  0  0  0  0  0  0]\n",
      " [ 0  0  0 33  0  0  0  0  0  0]\n",
      " [ 0  0  0  0 41  1  0  0  0  0]\n",
      " [ 0  0  0  0  0 34  1  0  0  0]\n",
      " [ 0  0  0  0  0  0 41  0  0  0]\n",
      " [ 0  0  0  0  1  0  0 31  0  0]\n",
      " [ 0  0  0  0  0  0  0  0 34  0]\n",
      " [ 0  0  0  0  0  2  0  0  0 28]]\n"
     ]
    }
   ],
   "source": [
    "def voltear_parte_inferior(matriz):\n",
    "  \"\"\"\n",
    "  Voltea la parte inferior de una matriz.\n",
    "\n",
    "  Args:\n",
    "    matriz: La matriz a voltear.\n",
    "\n",
    "  Returns:\n",
    "    La matriz volteada.\n",
    "  \"\"\"\n",
    "\n",
    "  matriz_vuelta = matriz.copy()\n",
    "\n",
    "  for i in range(len(matriz)):\n",
    "    for j in range(i + 1, len(matriz)):\n",
    "      matriz_vuelta[i][j], matriz_vuelta[j][i] = matriz_vuelta[j][i], matriz_vuelta[i][j]\n",
    "\n",
    "  return matriz_vuelta\n",
    "matriz_vuelta = voltear_parte_inferior(confusion_matrix(y_test, y_pred))\n",
    "print(matriz_vuelta)"
   ]
  },
  {
   "cell_type": "code",
   "execution_count": null,
   "id": "8b0e663c",
   "metadata": {},
   "outputs": [],
   "source": []
  }
 ],
 "metadata": {
  "kernelspec": {
   "display_name": "Python 3 (ipykernel)",
   "language": "python",
   "name": "python3"
  },
  "language_info": {
   "codemirror_mode": {
    "name": "ipython",
    "version": 3
   },
   "file_extension": ".py",
   "mimetype": "text/x-python",
   "name": "python",
   "nbconvert_exporter": "python",
   "pygments_lexer": "ipython3",
   "version": "3.11.4"
  }
 },
 "nbformat": 4,
 "nbformat_minor": 5
}
